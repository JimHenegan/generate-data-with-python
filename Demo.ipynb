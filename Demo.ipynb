{
 "cells": [
  {
   "cell_type": "code",
   "execution_count": 1,
   "id": "3704ded1-9d2b-4cd1-9d75-1e723dfc2d34",
   "metadata": {},
   "outputs": [],
   "source": [
    "import numpy as np\n",
    "import pandas as pd \n",
    "\n",
    "from helpers import convert_metadata, make_data_frame"
   ]
  },
  {
   "cell_type": "markdown",
   "id": "a9c9720c-c5db-47c8-8da7-4263326ec16d",
   "metadata": {},
   "source": [
    "# Demonstration of how to use the Helper Functions"
   ]
  },
  {
   "cell_type": "markdown",
   "id": "61486fde-d1a0-4aac-981c-2f9af14140ef",
   "metadata": {},
   "source": [
    "## Setup"
   ]
  },
  {
   "cell_type": "code",
   "execution_count": 2,
   "id": "03cc0ede-1cb7-41e6-8670-432e589b3742",
   "metadata": {},
   "outputs": [],
   "source": [
    "# Input\n",
    "path_to_csv_of_metadata = \"./example-metadata.csv\"\n",
    "seed = 42\n",
    "sample_size = 100\n",
    "\n",
    "# Output\n",
    "path_out = \"./example-generated-data.csv\""
   ]
  },
  {
   "cell_type": "markdown",
   "id": "33ead6b0-711f-4910-9046-2d2e714e81d1",
   "metadata": {},
   "source": [
    "## Main Program"
   ]
  },
  {
   "cell_type": "code",
   "execution_count": 3,
   "id": "9b9c68da-2347-44fe-acd9-8f1be534eb14",
   "metadata": {},
   "outputs": [
    {
     "data": {
      "text/html": [
       "<div>\n",
       "<style scoped>\n",
       "    .dataframe tbody tr th:only-of-type {\n",
       "        vertical-align: middle;\n",
       "    }\n",
       "\n",
       "    .dataframe tbody tr th {\n",
       "        vertical-align: top;\n",
       "    }\n",
       "\n",
       "    .dataframe thead th {\n",
       "        text-align: right;\n",
       "    }\n",
       "</style>\n",
       "<table border=\"1\" class=\"dataframe\">\n",
       "  <thead>\n",
       "    <tr style=\"text-align: right;\">\n",
       "      <th></th>\n",
       "      <th>age</th>\n",
       "      <th>female</th>\n",
       "      <th>edu3cat</th>\n",
       "    </tr>\n",
       "  </thead>\n",
       "  <tbody>\n",
       "    <tr>\n",
       "      <th>0</th>\n",
       "      <td>75.914151</td>\n",
       "      <td>0</td>\n",
       "      <td>2</td>\n",
       "    </tr>\n",
       "    <tr>\n",
       "      <th>1</th>\n",
       "      <td>71.880048</td>\n",
       "      <td>1</td>\n",
       "      <td>2</td>\n",
       "    </tr>\n",
       "    <tr>\n",
       "      <th>2</th>\n",
       "      <td>77.251354</td>\n",
       "      <td>1</td>\n",
       "      <td>2</td>\n",
       "    </tr>\n",
       "    <tr>\n",
       "      <th>3</th>\n",
       "      <td>77.821694</td>\n",
       "      <td>1</td>\n",
       "      <td>1</td>\n",
       "    </tr>\n",
       "    <tr>\n",
       "      <th>4</th>\n",
       "      <td>69.146894</td>\n",
       "      <td>0</td>\n",
       "      <td>3</td>\n",
       "    </tr>\n",
       "  </tbody>\n",
       "</table>\n",
       "</div>"
      ],
      "text/plain": [
       "         age  female  edu3cat\n",
       "0  75.914151       0        2\n",
       "1  71.880048       1        2\n",
       "2  77.251354       1        2\n",
       "3  77.821694       1        1\n",
       "4  69.146894       0        3"
      ]
     },
     "execution_count": 3,
     "metadata": {},
     "output_type": "execute_result"
    }
   ],
   "source": [
    "# Load in the data\n",
    "md = pd.read_csv(path_to_csv_of_metadata)\n",
    "\n",
    "# Convert the \"lists of choices\" from the CSV file from strings to lists\n",
    "converted_metadata = convert_metadata(md)\n",
    "\n",
    "# Instantiate the random number generator at the given seed\n",
    "rng = np.random.default_rng(seed)\n",
    "\n",
    "# Generate the data\n",
    "df = make_data_frame(converted_metadata, rng, sample_size)\n",
    "df.head()"
   ]
  },
  {
   "cell_type": "code",
   "execution_count": 4,
   "id": "2b0e0073-fa68-4aa6-8839-808e89aee4c3",
   "metadata": {},
   "outputs": [],
   "source": [
    "# Write to disk\n",
    "df.to_csv(path_out, index = False)"
   ]
  },
  {
   "cell_type": "code",
   "execution_count": null,
   "id": "b27ae7d9-e036-41a6-8eb3-bbcda5c84385",
   "metadata": {},
   "outputs": [],
   "source": []
  }
 ],
 "metadata": {
  "kernelspec": {
   "display_name": "Python 3 (ipykernel)",
   "language": "python",
   "name": "python3"
  },
  "language_info": {
   "codemirror_mode": {
    "name": "ipython",
    "version": 3
   },
   "file_extension": ".py",
   "mimetype": "text/x-python",
   "name": "python",
   "nbconvert_exporter": "python",
   "pygments_lexer": "ipython3",
   "version": "3.8.2"
  }
 },
 "nbformat": 4,
 "nbformat_minor": 5
}
